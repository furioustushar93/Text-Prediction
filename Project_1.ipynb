{
 "cells": [
  {
   "cell_type": "code",
   "execution_count": 20,
   "metadata": {},
   "outputs": [],
   "source": [
    "#we are using Markov Chain Rule\n",
    "\n",
    "def load_text(filename):\n",
    "    with open(filename,encoding=\"utf8\") as f:\n",
    "        return f.read().lower()\n",
    "    \n",
    "    \n",
    "data_file = \"ml-bootcamp-dtu-2019/Datasets/Speeches/english_speech_2.txt\"\n",
    "text = load_text(data_file)"
   ]
  },
  {
   "cell_type": "code",
   "execution_count": 21,
   "metadata": {},
   "outputs": [
    {
     "name": "stdout",
     "output_type": "stream",
     "text": [
      "my dear countrymen,\n",
      "\n",
      "many of you wish many-many good wishes of the holy festival of independence.\n",
      "\n",
      "today the country is full of confidence. the country is crossing the new heights by plowing the resolve of dreams with hard work. today's sunrise has brought a new consciousness, new excitement, new excitement, new energy.\n",
      "\n",
      "our lovely countrymen, once in 12 years, flowers of nilakurinya grow in our country. this year, on the hills of nilgiris in the south, it is like our nilkurinji flower like the ashok chakra of the tricolor flag, in the festival of freedom of the country.\n",
      "\n",
      "my dear countrymen, we are celebrating this festival of independence, when our daughters uttarakhand, himachal, manipur, telangana, andhra pradesh - our daughters of these states crossed seven seas and coloring the seven seas with a color of tricolor came back\n",
      "\n",
      "my dear countrymen, we are celebrating the festival of independence at that time, when everest triumphs were so many, many of our heroes, many of our daughters\n"
     ]
    }
   ],
   "source": [
    "print(text[:1000])"
   ]
  },
  {
   "cell_type": "code",
   "execution_count": 22,
   "metadata": {},
   "outputs": [],
   "source": [
    "def generateTable(data,k=4):\n",
    "    \n",
    "    T = {}\n",
    "    for i in range(len(data)-k):\n",
    "        X = data[i:i+k]\n",
    "        Y = data[i+k]\n",
    "        if T.get(X) is None:\n",
    "            T[X] = {}\n",
    "            T[X][Y] = 1\n",
    "        else:\n",
    "            if T[X].get(Y) is None:\n",
    "                T[X][Y] = 1\n",
    "            else:\n",
    "                T[X][Y] += 1\n",
    "    return T\n",
    "            "
   ]
  },
  {
   "cell_type": "code",
   "execution_count": 23,
   "metadata": {},
   "outputs": [
    {
     "data": {
      "text/plain": [
       "{' Hel': {'l': 2},\n",
       " ' Wor': {'l': 1},\n",
       " 'Hell': {'i': 1, 'o': 2},\n",
       " 'Worl': {'d': 1},\n",
       " 'd He': {'l': 1},\n",
       " 'ello': {' ': 2},\n",
       " 'ld H': {'e': 1},\n",
       " 'llo ': {'H': 1, 'W': 1},\n",
       " 'lo H': {'e': 1},\n",
       " 'lo W': {'o': 1},\n",
       " 'o He': {'l': 1},\n",
       " 'o Wo': {'r': 1},\n",
       " 'orld': {' ': 1},\n",
       " 'rld ': {'H': 1}}"
      ]
     },
     "execution_count": 23,
     "metadata": {},
     "output_type": "execute_result"
    }
   ],
   "source": [
    "\n",
    "generateTable(\"Hello Hello World Helli\")"
   ]
  },
  {
   "cell_type": "code",
   "execution_count": 24,
   "metadata": {},
   "outputs": [],
   "source": [
    "def condProb(T):\n",
    "    \n",
    "    for kx in T.keys():\n",
    "        s = float(sum(T[kx].values()))\n",
    "        for k in T[kx].keys():\n",
    "            T[kx][k] = T[kx][k]/s\n",
    "    return T\n",
    "        "
   ]
  },
  {
   "cell_type": "code",
   "execution_count": 25,
   "metadata": {},
   "outputs": [],
   "source": [
    "def train(data,k):\n",
    "    T = generateTable(data,k)\n",
    "    T = condProb(T)\n",
    "    return T "
   ]
  },
  {
   "cell_type": "code",
   "execution_count": 26,
   "metadata": {},
   "outputs": [],
   "source": [
    "T = train(text,4)"
   ]
  },
  {
   "cell_type": "code",
   "execution_count": 27,
   "metadata": {},
   "outputs": [],
   "source": [
    "import numpy as np"
   ]
  },
  {
   "cell_type": "code",
   "execution_count": 28,
   "metadata": {},
   "outputs": [],
   "source": [
    "def sample_text(ctx,T):\n",
    "    \n",
    "    ctx = ctx[-4:]\n",
    "    if T.get(ctx) is None:\n",
    "        return \" \"\n",
    "    possible_char = list(T[ctx].keys())\n",
    "    possible_val = list(T[ctx].values())\n",
    "    return np.random.choice(possible_char,p=possible_val)"
   ]
  },
  {
   "cell_type": "code",
   "execution_count": 31,
   "metadata": {},
   "outputs": [],
   "source": [
    "\n",
    "def generateText(initial_sen,max_len=500):\n",
    "    np.random.seed(1)\n",
    "    sentence = initial_sen\n",
    "    ctx = initial_sen[-4:]\n",
    "    \n",
    "    for i in range(max_len):\n",
    "        next_pred = sample_text(ctx,T)\n",
    "        sentence  += next_pred\n",
    "        ctx = sentence[-4:]\n",
    "    return sentence"
   ]
  },
  {
   "cell_type": "code",
   "execution_count": 32,
   "metadata": {},
   "outputs": [
    {
     "data": {
      "text/plain": [
       "\"dear country day for the paramilies who have lost tricolor flag by hoisting the jubilee prisons of the tribal children lives in any of massacres of the ashok chakra of the tried to the country happy and sacrifice at that in our nilkurinji flower and color, inspiring frames and sacrifice from different the tricolor, in their rights, our paramilies of our country's independence. i am involve of their lives, i will remember that time, who have in such a positivity and sacres of oppression of independ l\""
      ]
     },
     "execution_count": 32,
     "metadata": {},
     "output_type": "execute_result"
    }
   ],
   "source": [
    "generateText(\"dear\")"
   ]
  }
 ],
 "metadata": {
  "kernelspec": {
   "display_name": "Python 3",
   "language": "python",
   "name": "python3"
  },
  "language_info": {
   "codemirror_mode": {
    "name": "ipython",
    "version": 3
   },
   "file_extension": ".py",
   "mimetype": "text/x-python",
   "name": "python",
   "nbconvert_exporter": "python",
   "pygments_lexer": "ipython3",
   "version": "3.6.4"
  }
 },
 "nbformat": 4,
 "nbformat_minor": 2
}
